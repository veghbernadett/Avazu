{
 "cells": [
  {
   "cell_type": "markdown",
   "metadata": {},
   "source": [
    "## Click-Through Rate Simple Outlier Detection"
   ]
  },
  {
   "cell_type": "markdown",
   "metadata": {},
   "source": [
    "## Problem description"
   ]
  },
  {
   "cell_type": "markdown",
   "metadata": {},
   "source": [
    "**Goal:**\n",
    "* *Data aggragation with big data technics (Task 0)*\n",
    "    * pyspark\n",
    "    * we processed the data in jupyter notebook because of the visibility of the excercise \n",
    "    * Additional work is requeired: processing data using py scripts\n",
    "    \n",
    "    \n",
    "* *Calculate CTR - click through rate (Task 1)*\n",
    "    * [CTR](https://en.wikipedia.org/wiki/Click-through_rate) is an important metric in online advertising    \n",
    "    CTR can be used to evaluate ad performance   \n",
    "    * CTR ratio of users who click on a specific link to the number of total users who view a advertisement \n",
    "    * Click Through Rate = (Total Clicks on Ad) / (Total Impressions)\n",
    "    * For the sake of excercise we process data summerize by hour  \n",
    "    \n",
    "    \n",
    "    \n",
    "* *Simple Outlier Detection (Task 2)*    \n",
    "    * 'Good' CTR number depends on the campaign  \n",
    "    * CTR time series - our goal to identify outliers\n",
    "    * For detecting anomalies using a simple statistical approach - simple moving average \n",
    "    * Identifying outliers depends on domain knowladge too\n",
    "    * A data point is identified as an outlier, if it is more than 1.5 standard deviations apart from its calculated moving average   \n",
    "    * for simplicity, we assume a Gaussian distribution \n",
    "    * for ploting we use plotly as the visualization more interactive for the user   "
   ]
  },
  {
   "cell_type": "markdown",
   "metadata": {},
   "source": [
    "**Data:**\n",
    "* A kaggle competion data is used - [avazu ctr prediction](https://www.kaggle.com/c/avazu-ctr-prediction/data)   \n",
    "* train.gz file - 10 days data   "
   ]
  },
  {
   "cell_type": "markdown",
   "metadata": {},
   "source": [
    "## Table of contents\n",
    "\n",
    "* [Methodology](#methodology)\n",
    "* [Data processing](#Task_0_Data.ipynb)\n",
    "* [CTR](Task_1_CTR.ipynb)\n",
    "* [Simple_Outlier_Detection](Task_2_simple_outlier_detection.ipynb)"
   ]
  },
  {
   "cell_type": "markdown",
   "metadata": {},
   "source": [
    "<a id='methodology'></a>\n",
    "## Methodology"
   ]
  },
  {
   "cell_type": "markdown",
   "metadata": {},
   "source": [
    "**Task 0**\n",
    "* pyspark  - data processing \n",
    "\n",
    "**Task 1, 2**\n",
    "* plotly - visualization"
   ]
  }
 ],
 "metadata": {
  "kernelspec": {
   "display_name": "Python 3",
   "language": "python",
   "name": "python3"
  },
  "language_info": {
   "codemirror_mode": {
    "name": "ipython",
    "version": 3
   },
   "file_extension": ".py",
   "mimetype": "text/x-python",
   "name": "python",
   "nbconvert_exporter": "python",
   "pygments_lexer": "ipython3",
   "version": "3.7.6"
  }
 },
 "nbformat": 4,
 "nbformat_minor": 4
}
