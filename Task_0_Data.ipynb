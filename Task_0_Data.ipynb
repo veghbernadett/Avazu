{
 "cells": [
  {
   "cell_type": "markdown",
   "metadata": {},
   "source": [
    "## Task 0 Data"
   ]
  },
  {
   "cell_type": "markdown",
   "metadata": {},
   "source": [
    "**Data:**\n",
    "* avazu ctr prediction data is used \n",
    "    * https://www.kaggle.com/c/avazu-ctr-prediction/data\n",
    "    * train.gz file is used\n",
    "* train dataset - 10 days data\n",
    "\n",
    "\n",
    "**Goal:**  \n",
    "* processing and aggregate data   \n",
    "   \n",
    "    \n",
    "**Outcome:**\n",
    "* parquet files - impressions, clicks"
   ]
  },
  {
   "cell_type": "markdown",
   "metadata": {},
   "source": [
    "----"
   ]
  },
  {
   "cell_type": "code",
   "execution_count": 8,
   "metadata": {},
   "outputs": [],
   "source": [
    "from pyspark.context import SparkContext\n",
    "from pyspark.sql.session import SparkSession\n",
    "\n",
    "from pyspark.sql.types import IntegerType\n",
    "from pyspark.sql.functions import unix_timestamp, from_unixtime"
   ]
  },
  {
   "cell_type": "code",
   "execution_count": 2,
   "metadata": {},
   "outputs": [],
   "source": [
    "# spark session\n",
    "sc = SparkContext.getOrCreate()\n",
    "spark = SparkSession(sc)"
   ]
  },
  {
   "cell_type": "markdown",
   "metadata": {},
   "source": [
    "----"
   ]
  },
  {
   "cell_type": "markdown",
   "metadata": {},
   "source": [
    "### Load data"
   ]
  },
  {
   "cell_type": "code",
   "execution_count": 3,
   "metadata": {},
   "outputs": [],
   "source": [
    "dfs = spark.read.csv(\"./data/train.gz\", header = True)"
   ]
  },
  {
   "cell_type": "code",
   "execution_count": 4,
   "metadata": {},
   "outputs": [
    {
     "name": "stdout",
     "output_type": "stream",
     "text": [
      "root\n",
      " |-- id: string (nullable = true)\n",
      " |-- click: string (nullable = true)\n",
      " |-- hour: string (nullable = true)\n",
      " |-- C1: string (nullable = true)\n",
      " |-- banner_pos: string (nullable = true)\n",
      " |-- site_id: string (nullable = true)\n",
      " |-- site_domain: string (nullable = true)\n",
      " |-- site_category: string (nullable = true)\n",
      " |-- app_id: string (nullable = true)\n",
      " |-- app_domain: string (nullable = true)\n",
      " |-- app_category: string (nullable = true)\n",
      " |-- device_id: string (nullable = true)\n",
      " |-- device_ip: string (nullable = true)\n",
      " |-- device_model: string (nullable = true)\n",
      " |-- device_type: string (nullable = true)\n",
      " |-- device_conn_type: string (nullable = true)\n",
      " |-- C14: string (nullable = true)\n",
      " |-- C15: string (nullable = true)\n",
      " |-- C16: string (nullable = true)\n",
      " |-- C17: string (nullable = true)\n",
      " |-- C18: string (nullable = true)\n",
      " |-- C19: string (nullable = true)\n",
      " |-- C20: string (nullable = true)\n",
      " |-- C21: string (nullable = true)\n",
      "\n"
     ]
    }
   ],
   "source": [
    "dfs.printSchema()"
   ]
  },
  {
   "cell_type": "code",
   "execution_count": 5,
   "metadata": {},
   "outputs": [
    {
     "data": {
      "text/plain": [
       "Row(id='1000009418151094273', click='0', hour='14102100', C1='1005', banner_pos='0', site_id='1fbe01fe', site_domain='f3845767', site_category='28905ebd', app_id='ecad2386', app_domain='7801e8d9', app_category='07d7df22', device_id='a99f214a', device_ip='ddd2926e', device_model='44956a24', device_type='1', device_conn_type='2', C14='15706', C15='320', C16='50', C17='1722', C18='0', C19='35', C20='-1', C21='79')"
      ]
     },
     "execution_count": 5,
     "metadata": {},
     "output_type": "execute_result"
    }
   ],
   "source": [
    "dfs.head()"
   ]
  },
  {
   "cell_type": "markdown",
   "metadata": {},
   "source": [
    "### No of clicks"
   ]
  },
  {
   "cell_type": "code",
   "execution_count": 7,
   "metadata": {},
   "outputs": [
    {
     "name": "stdout",
     "output_type": "stream",
     "text": [
      "+--------+------------+\n",
      "|    hour|no_of_clicks|\n",
      "+--------+------------+\n",
      "|14102202|       19847|\n",
      "|14102100|       20792|\n",
      "|14102206|       46227|\n",
      "|14102218|       34708|\n",
      "|14102915|       34018|\n",
      "|14102715|       20941|\n",
      "|14102120|       18195|\n",
      "|14102509|       31437|\n",
      "|14102601|       15168|\n",
      "|14102712|       28938|\n",
      "|14102321|       17159|\n",
      "|14103010|       34587|\n",
      "|14102812|       44660|\n",
      "|14103016|       39159|\n",
      "|14102110|       35694|\n",
      "|14102204|       34377|\n",
      "|14102512|       38454|\n",
      "|14102822|       17865|\n",
      "|14102209|       62410|\n",
      "|14102722|       15457|\n",
      "+--------+------------+\n",
      "only showing top 20 rows\n",
      "\n"
     ]
    }
   ],
   "source": [
    "dft = dfs.withColumn(\"click\", dfs[\"click\"].cast(IntegerType()))\n",
    "dft = dft.groupby(\"hour\").sum(\"click\").withColumnRenamed(\"sum(click)\", \"no_of_clicks\")\n",
    "dft.show()"
   ]
  },
  {
   "cell_type": "code",
   "execution_count": 9,
   "metadata": {},
   "outputs": [
    {
     "name": "stdout",
     "output_type": "stream",
     "text": [
      "+-------------------+------------+\n",
      "|          date_hour|no_of_clicks|\n",
      "+-------------------+------------+\n",
      "|2014-01-22 02:10:00|       19847|\n",
      "|2014-01-21 00:10:00|       20792|\n",
      "|2014-01-22 06:10:00|       46227|\n",
      "|2014-01-22 18:10:00|       34708|\n",
      "|2014-01-29 15:10:00|       34018|\n",
      "|2014-01-27 15:10:00|       20941|\n",
      "|2014-01-21 20:10:00|       18195|\n",
      "|2014-01-25 09:10:00|       31437|\n",
      "|2014-01-26 01:10:00|       15168|\n",
      "|2014-01-27 12:10:00|       28938|\n",
      "|2014-01-23 21:10:00|       17159|\n",
      "|2014-01-30 10:10:00|       34587|\n",
      "|2014-01-28 12:10:00|       44660|\n",
      "|2014-01-30 16:10:00|       39159|\n",
      "|2014-01-21 10:10:00|       35694|\n",
      "|2014-01-22 04:10:00|       34377|\n",
      "|2014-01-25 12:10:00|       38454|\n",
      "|2014-01-28 22:10:00|       17865|\n",
      "|2014-01-22 09:10:00|       62410|\n",
      "|2014-01-27 22:10:00|       15457|\n",
      "+-------------------+------------+\n",
      "only showing top 20 rows\n",
      "\n"
     ]
    }
   ],
   "source": [
    "# convert 'hour' to datetime\n",
    "dfx = dft.withColumn('hour',from_unixtime(unix_timestamp(dft.hour, 'yymmddH'))).withColumnRenamed(\"hour\", \"date_hour\")\n",
    "dfx.show()"
   ]
  },
  {
   "cell_type": "code",
   "execution_count": 10,
   "metadata": {},
   "outputs": [
    {
     "name": "stdout",
     "output_type": "stream",
     "text": [
      "+-------------------+------------+\n",
      "|          date_hour|no_of_clicks|\n",
      "+-------------------+------------+\n",
      "|2014-01-21 00:10:00|       20792|\n",
      "|2014-01-21 01:10:00|       23873|\n",
      "|2014-01-21 02:10:00|       31265|\n",
      "|2014-01-21 03:10:00|       32830|\n",
      "|2014-01-21 04:10:00|       40026|\n",
      "|2014-01-21 05:10:00|       40709|\n",
      "|2014-01-21 06:10:00|       38657|\n",
      "|2014-01-21 07:10:00|       35531|\n",
      "|2014-01-21 08:10:00|       35220|\n",
      "|2014-01-21 09:10:00|       37802|\n",
      "|2014-01-21 10:10:00|       35694|\n",
      "|2014-01-21 11:10:00|       35476|\n",
      "|2014-01-21 12:10:00|       28775|\n",
      "|2014-01-21 13:10:00|       35425|\n",
      "|2014-01-21 14:10:00|       35168|\n",
      "|2014-01-21 15:10:00|       34080|\n",
      "|2014-01-21 16:10:00|       33469|\n",
      "|2014-01-21 17:10:00|       32557|\n",
      "|2014-01-21 18:10:00|       27470|\n",
      "|2014-01-21 19:10:00|       20201|\n",
      "+-------------------+------------+\n",
      "only showing top 20 rows\n",
      "\n"
     ]
    }
   ],
   "source": [
    "# order by date\n",
    "dfx = dfx.orderBy(\"date_hour\")\n",
    "dfx.show()"
   ]
  },
  {
   "cell_type": "markdown",
   "metadata": {},
   "source": [
    "### Impression"
   ]
  },
  {
   "cell_type": "code",
   "execution_count": 11,
   "metadata": {},
   "outputs": [
    {
     "name": "stdout",
     "output_type": "stream",
     "text": [
      "+--------+------+\n",
      "|    hour| count|\n",
      "+--------+------+\n",
      "|14102202|102844|\n",
      "|14102100|119006|\n",
      "|14102206|288819|\n",
      "|14102218|205756|\n",
      "|14102915|202404|\n",
      "|14102715|104242|\n",
      "|14102120|112017|\n",
      "|14102509|180060|\n",
      "|14102601| 80863|\n",
      "|14102712|166229|\n",
      "|14102321|116964|\n",
      "|14103010|215813|\n",
      "|14102812|272124|\n",
      "|14103016|211916|\n",
      "|14102110|200028|\n",
      "|14102204|200948|\n",
      "|14102512|205914|\n",
      "|14102822|124195|\n",
      "|14102209|447783|\n",
      "|14102722| 94982|\n",
      "+--------+------+\n",
      "only showing top 20 rows\n",
      "\n"
     ]
    }
   ],
   "source": [
    "dfi = dfs.groupby(\"hour\").count()\n",
    "dfi.show()"
   ]
  },
  {
   "cell_type": "code",
   "execution_count": 12,
   "metadata": {},
   "outputs": [
    {
     "name": "stdout",
     "output_type": "stream",
     "text": [
      "+---------+-----------+\n",
      "|date_hour|impressions|\n",
      "+---------+-----------+\n",
      "| 14102202|     102844|\n",
      "| 14102100|     119006|\n",
      "| 14102206|     288819|\n",
      "| 14102218|     205756|\n",
      "| 14102915|     202404|\n",
      "| 14102715|     104242|\n",
      "| 14102120|     112017|\n",
      "| 14102509|     180060|\n",
      "| 14102601|      80863|\n",
      "| 14102712|     166229|\n",
      "| 14102321|     116964|\n",
      "| 14103010|     215813|\n",
      "| 14102812|     272124|\n",
      "| 14103016|     211916|\n",
      "| 14102110|     200028|\n",
      "| 14102204|     200948|\n",
      "| 14102512|     205914|\n",
      "| 14102822|     124195|\n",
      "| 14102209|     447783|\n",
      "| 14102722|      94982|\n",
      "+---------+-----------+\n",
      "only showing top 20 rows\n",
      "\n"
     ]
    }
   ],
   "source": [
    "# rename columns\n",
    "dfi = dfi.toDF('date_hour', 'impressions')\n",
    "dfi.show()"
   ]
  },
  {
   "cell_type": "code",
   "execution_count": 13,
   "metadata": {},
   "outputs": [
    {
     "name": "stdout",
     "output_type": "stream",
     "text": [
      "+-------------------+-----------+\n",
      "|          date_hour|impressions|\n",
      "+-------------------+-----------+\n",
      "|2014-01-21 00:10:00|     119006|\n",
      "|2014-01-21 01:10:00|     137442|\n",
      "|2014-01-21 02:10:00|     207471|\n",
      "|2014-01-21 03:10:00|     193355|\n",
      "|2014-01-21 04:10:00|     264711|\n",
      "|2014-01-21 05:10:00|     273500|\n",
      "|2014-01-21 06:10:00|     239720|\n",
      "|2014-01-21 07:10:00|     209311|\n",
      "|2014-01-21 08:10:00|     207244|\n",
      "|2014-01-21 09:10:00|     230917|\n",
      "|2014-01-21 10:10:00|     200028|\n",
      "|2014-01-21 11:10:00|     175666|\n",
      "|2014-01-21 12:10:00|     143620|\n",
      "|2014-01-21 13:10:00|     190481|\n",
      "|2014-01-21 14:10:00|     174531|\n",
      "|2014-01-21 15:10:00|     176156|\n",
      "|2014-01-21 16:10:00|     171869|\n",
      "|2014-01-21 17:10:00|     171933|\n",
      "|2014-01-21 18:10:00|     152365|\n",
      "|2014-01-21 19:10:00|     119775|\n",
      "+-------------------+-----------+\n",
      "only showing top 20 rows\n",
      "\n"
     ]
    }
   ],
   "source": [
    "# datetime format and order by date\n",
    "dfi = dfi.withColumn('date_hour',from_unixtime(unix_timestamp(dfi.date_hour, 'yymmddH'))).orderBy(\"date_hour\")\n",
    "dfi.show()"
   ]
  },
  {
   "cell_type": "markdown",
   "metadata": {},
   "source": [
    "----"
   ]
  },
  {
   "cell_type": "markdown",
   "metadata": {},
   "source": [
    "### Outcome"
   ]
  },
  {
   "cell_type": "code",
   "execution_count": 14,
   "metadata": {},
   "outputs": [],
   "source": [
    "# clicks dataframe write into parquet file\n",
    "dfx.write.parquet(\"clicks.parquet\")"
   ]
  },
  {
   "cell_type": "code",
   "execution_count": 15,
   "metadata": {},
   "outputs": [],
   "source": [
    "# impression dataframe write into parquet file\n",
    "dfi.write.parquet(\"impressions.parquet\")"
   ]
  },
  {
   "cell_type": "markdown",
   "metadata": {},
   "source": [
    "---"
   ]
  }
 ],
 "metadata": {
  "kernelspec": {
   "display_name": "Python 3",
   "language": "python",
   "name": "python3"
  },
  "language_info": {
   "codemirror_mode": {
    "name": "ipython",
    "version": 3
   },
   "file_extension": ".py",
   "mimetype": "text/x-python",
   "name": "python",
   "nbconvert_exporter": "python",
   "pygments_lexer": "ipython3",
   "version": "3.7.6"
  }
 },
 "nbformat": 4,
 "nbformat_minor": 4
}
